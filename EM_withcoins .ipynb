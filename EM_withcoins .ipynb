{
 "cells": [
  {
   "cell_type": "code",
   "execution_count": 8,
   "metadata": {},
   "outputs": [
    {
     "name": "stdout",
     "output_type": "stream",
     "text": [
      "0: pi = [0.4236548  0.64589411] nu = [0.43758721 0.891773  ]\n",
      "1: pi = [0.92875871 0.07124129] nu = [0.23543265 0.72064777]\n",
      "2: pi = [0.89087106 0.10912894] nu = [0.21800636 0.69444861]\n",
      "3: pi = [0.87275511 0.12724489] nu = [0.21103189 0.67445411]\n",
      "4: pi = [0.86321604 0.13678396] nu = [0.20796559 0.66148665]\n",
      "5: pi = [0.85758189 0.14241811] nu = [0.20632576 0.65341946]\n",
      "6: pi = [0.85406924 0.14593076] nu = [0.205355   0.64833909]\n",
      "7: pi = [0.85181949 0.14818051] nu = [0.20475122 0.64508429]\n",
      "8: pi = [0.85035656 0.14964344] nu = [0.20436553 0.64297128]\n",
      "9: pi = [0.84939647 0.15060353] nu = [0.20411522 0.6415869 ]\n",
      "10: pi = [0.84876271 0.15123729] nu = [0.20395118 0.64067428]\n",
      "11: pi = [0.84834279 0.15165721] nu = [0.203843   0.64007019]\n",
      "12: pi = [0.84806387 0.15193613] nu = [0.20377137 0.63966921]\n",
      "13: pi = [0.84787831 0.15212169] nu = [0.20372381 0.63940258]\n",
      "14: pi = [0.84775472 0.15224528] nu = [0.20369218 0.63922506]\n",
      "15: pi = [0.84767236 0.15232764] nu = [0.20367111 0.63910677]\n",
      "16: pi = [0.84761744 0.15238256] nu = [0.20365708 0.63902791]\n",
      "17: pi = [0.84758081 0.15241919] nu = [0.20364772 0.63897531]\n",
      "18: pi = [0.84755637 0.15244363] nu = [0.20364148 0.63894023]\n",
      "19: pi = [0.84754007 0.15245993] nu = [0.20363732 0.63891682]\n",
      "20: pi = [0.84752919 0.15247081] nu = [0.20363454 0.6389012 ]\n",
      "21: pi = [0.84752193 0.15247807] nu = [0.20363268 0.63889078]\n"
     ]
    }
   ],
   "source": [
    "import numpy as np\n",
    "import scipy.stats\n",
    "M = 10\n",
    "eps = 1/100000\n",
    "y = np.array([7, 7, 1, 3, 2, 1, 5, 1, 4, 0, 2, 3, 3, 1, 2, 2, 3, 1, 4, 0, 8, 3, 5, 3, 0, 0, 7, 1, 1, 3, 1, 3, 2, 4, 1, 6, 2, 2, 4, 1, 3, 1, 1, 2, 7, 3, 3, 2, 2, 2])\n",
    "pi = np.random.rand(2)\n",
    "nu = np.random.rand(2)\n",
    "pi_old = pi\n",
    "nu_old = nu\n",
    "i=0\n",
    "while (np.sum(np.abs(pi - pi_old)) > eps) and (np.sum(np.abs(nu - nu_old)) > eps) or (i == 0):\n",
    "    print('{}:'.format(i), 'pi = {}'.format(pi), 'nu = {}'.format(nu))\n",
    "    r = scipy.stats.binom.pmf(y[:, None], M, nu[None, :]) * pi[None, :]\n",
    "    r = r/np.sum(r, axis=1)[:, None]\n",
    "    pi_old, nu_old = pi.copy(), nu.copy()\n",
    "    pi = r.mean(axis=0)\n",
    "    nu = np.sum(y[:, None]*r, axis=0)/ (r.sum(axis=0)) /M\n",
    "    i += 1"
   ]
  },
  {
   "cell_type": "code",
   "execution_count": null,
   "metadata": {},
   "outputs": [],
   "source": []
  },
  {
   "cell_type": "code",
   "execution_count": null,
   "metadata": {},
   "outputs": [],
   "source": []
  }
 ],
 "metadata": {
  "kernelspec": {
   "display_name": "Python 3",
   "language": "python",
   "name": "python3"
  },
  "language_info": {
   "codemirror_mode": {
    "name": "ipython",
    "version": 3
   },
   "file_extension": ".py",
   "mimetype": "text/x-python",
   "name": "python",
   "nbconvert_exporter": "python",
   "pygments_lexer": "ipython3",
   "version": "3.7.1"
  }
 },
 "nbformat": 4,
 "nbformat_minor": 2
}
