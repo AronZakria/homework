{
 "cells": [
  {
   "cell_type": "code",
   "execution_count": 6,
   "metadata": {},
   "outputs": [
    {
     "name": "stdout",
     "output_type": "stream",
     "text": [
      "0: pi = [0.5 0.5] nu = [0.5488135  0.71518937]\n",
      "1: pi = [0.87073241 0.12926759] nu = [0.22956431 0.54237045]\n",
      "2: pi = [0.84523256 0.15476744] nu = [0.20708441 0.61360134]\n",
      "3: pi = [0.84234824 0.15765176] nu = [0.20280898 0.62900797]\n",
      "4: pi = [0.84360435 0.15639565] nu = [0.20269821 0.63302856]\n",
      "5: pi = [0.84483556 0.15516444] nu = [0.20295977 0.63501899]\n",
      "6: pi = [0.8457089 0.1542911] nu = [0.20317394 0.63629067]\n",
      "7: pi = [0.8463017 0.1536983] nu = [0.20332286 0.63714122]\n",
      "8: pi = [0.84670045 0.15329955] nu = [0.20342371 0.63771256]\n",
      "9: pi = [0.84696783 0.15303217] nu = [0.20349157 0.63809583]\n",
      "10: pi = [0.84714683 0.15285317] nu = [0.20353708 0.63835253]\n",
      "11: pi = [0.84726654 0.15273346] nu = [0.20356756 0.63852427]\n",
      "12: pi = [0.84734655 0.15265345] nu = [0.20358794 0.63863906]\n",
      "13: pi = [0.84739999 0.15260001] nu = [0.20360157 0.63871576]\n",
      "14: pi = [0.84743568 0.15256432] nu = [0.20361067 0.63876699]\n",
      "15: pi = [0.84745951 0.15254049] nu = [0.20361675 0.63880119]\n",
      "16: pi = [0.84747542 0.15252458] nu = [0.20362081 0.63882403]\n",
      "17: pi = [0.84748604 0.15251396] nu = [0.20362352 0.63883927]\n",
      "18: pi = [0.84749313 0.15250687] nu = [0.20362533 0.63884945]\n"
     ]
    }
   ],
   "source": [
    "import numpy as np\n",
    "import scipy.stats\n",
    "M = 10\n",
    "eps = 1/100000\n",
    "y = np.array([7, 7, 1, 3, 2, 1, 5, 1, 4, 0, 2, 3, 3, 1, 2, 2, 3, 1, 4, 0, 8, 3, 5, 3, 0, 0, 7, 1, 1, 3, 1, 3, 2, 4, 1, 6, 2, 2, 4, 1, 3, 1, 1, 2, 7, 3, 3, 2, 2, 2])\n",
    "np.random.seed(0)\n",
    "pi = np.array([1/2,1/2])\n",
    "nu = np.random.rand(2)\n",
    "i=0\n",
    "pi_old = pi\n",
    "nu_old = nu\n",
    "while (np.sum(np.abs(pi - pi_old)) > eps) and (np.sum(np.abs(nu - nu_old)) > eps) or (i == 0):\n",
    "    print('{}:'.format(i), 'pi = {}'.format(pi), 'nu = {}'.format(nu))\n",
    "    r = scipy.stats.binom.pmf(y[:, None], M, nu[None, :]) * pi[None, :]\n",
    "    r = r/np.sum(r, axis=1)[:, None]\n",
    "    pi_old, nu_old = pi.copy(), nu.copy()\n",
    "    pi = r.mean(axis=0)\n",
    "    nu = np.sum(y[:, None]*r, axis=0)/ (r.sum(axis=0)) /M\n",
    "    i += 1"
   ]
  },
  {
   "cell_type": "code",
   "execution_count": null,
   "metadata": {},
   "outputs": [],
   "source": []
  },
  {
   "cell_type": "code",
   "execution_count": null,
   "metadata": {},
   "outputs": [],
   "source": []
  }
 ],
 "metadata": {
  "kernelspec": {
   "display_name": "Python 3",
   "language": "python",
   "name": "python3"
  },
  "language_info": {
   "codemirror_mode": {
    "name": "ipython",
    "version": 3
   },
   "file_extension": ".py",
   "mimetype": "text/x-python",
   "name": "python",
   "nbconvert_exporter": "python",
   "pygments_lexer": "ipython3",
   "version": "3.7.1"
  }
 },
 "nbformat": 4,
 "nbformat_minor": 2
}
