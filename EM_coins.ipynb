import numpy as np
import scipy.stats
M = 10
eps = 1/100000
y = np.array([7, 7, 1, 3, 2, 1, 5, 1, 4, 0, 2, 3, 3, 1, 2, 2, 3, 1, 4, 0, 8, 3, 5, 3, 0, 0, 7, 1, 1, 3, 1, 3, 2, 4, 1, 6, 2, 2, 4, 1, 3, 1, 1, 2, 7, 3, 3, 2, 2, 2])
np.random.seed(0)
pi = np.array([1/2,1/2])
nu = np.random.rand(2)
i=0
pi_old = pi
nu_old = nu
while (np.sum(np.abs(pi - pi_old)) > eps) and (np.sum(np.abs(nu - nu_old)) > eps) or (i == 0):
    print('{}:'.format(i), 'pi = {}'.format(pi), 'nu = {}'.format(nu))
    r = scipy.stats.binom.pmf(y[:, None], M, nu[None, :]) * pi[None, :]
    r = r/np.sum(r, axis=1)[:, None]
    pi_old, nu_old = pi.copy(), nu.copy()
    pi = r.mean(axis=0)
    nu = np.sum(y[:, None]*r, axis=0)/ (r.sum(axis=0)) /M
    i += 1
